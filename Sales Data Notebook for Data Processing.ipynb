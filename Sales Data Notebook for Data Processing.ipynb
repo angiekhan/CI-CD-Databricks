{
 "cells": [
  {
   "cell_type": "code",
   "execution_count": 0,
   "metadata": {
    "application/vnd.databricks.v1+cell": {
     "cellMetadata": {},
     "inputWidgets": {},
     "nuid": "cf768d30-8f72-4d4b-9dee-f29d90db1fa8",
     "showTitle": false,
     "tableResultSettingsMap": {},
     "title": ""
    }
   },
   "outputs": [],
   "source": [
    "from pyspark.sql.types import StructType, StructField, StringType, DateType, DoubleType, IntegerType\n",
    "from pyspark.sql import Row\n",
    "from datetime import datetime\n",
    "\n",
    "\n",
    "\n",
    "\n",
    "sales_schema = StructType([\n",
    "StructField(\"OrderID\", StringType(), False),\n",
    "StructField(\"OrderDate\", DateType(), False),      \n",
    "StructField(\"Region\", StringType(), True),       \n",
    "StructField(\"Product\", StringType(), False),     \n",
    "StructField(\"Category\", StringType(), False),    \n",
    "StructField(\"Price\", DoubleType(), False),       \n",
    "StructField(\"Quantity\", IntegerType(), False) \n",
    "])\n",
    "\n",
    "sales_data = [\n",
    "    (\"ORD009\", datetime(2022, 1, 10), \"West\", \"iPhone 15\", \"Electronics\", 1099.99, 3),\n",
    "    (\"ORD010\", datetime(2022, 2, 18), \"East\", \"MacBook Pro\", \"Electronics\", 1999.99, 1),\n",
    "    (\"ORD011\", datetime(2022, 3, 6), \"South\", \"Ergonomic Chair\", \"Furniture\", 179.99, 2),\n",
    "    (\"ORD012\", datetime(2022, 4, 20), \"North\", \"4K Monitor\", \"Electronics\", 329.99, 2),\n",
    "    (\"ORD013\", datetime(2022, 5, 27), \"West\", \"Standing Desk\", \"Furniture\", 499.99, 1),\n",
    "    (\"ORD014\", datetime(2022, 6, 15), \"East\", \"iPad Pro\", \"Electronics\", 899.99, 2),\n",
    "    (\"ORD015\", datetime(2022, 7, 23), \"South\", \"Corner Bookshelf\", \"Furniture\", 249.99, 3),\n",
    "    (\"ORD016\", datetime(2022, 8, 12), \"North\", \"Laser Printer\", \"Electronics\", 199.99, 1),\n",
    "    (\"ORD021\", datetime(2023, 1, 15), \"West\", \"iPhone 14\", \"Electronics\", 999.99, 2),\n",
    "    (\"ORD002\", datetime(2023, 2, 20), \"East\", \"MacBook Air\", \"Electronics\", 1199.49, 1),\n",
    "    (\"ORD003\", datetime(2023, 3, 5), \"South\", \"Desk Chair\", \"Furniture\", 149.99, 4),\n",
    "    (\"ORD004\", datetime(2023, 4, 17), \"North\", \"Monitor\", \"Electronics\", 249.99, 2),\n",
    "    (\"ORD005\", datetime(2023, 5, 30), \"West\", \"Office Desk\", \"Furniture\", 399.99, 1),\n",
    "    (\"ORD006\", datetime(2023, 6, 12), \"East\", \"iPad\", \"Electronics\", 499.99, 3),\n",
    "    (\"ORD007\", datetime(2023, 7, 25), \"South\", \"Bookshelf\", \"Furniture\", 199.99, 2),\n",
    "    (\"ORD008\", datetime(2023, 8, 8), \"North\", \"Printer\", \"Electronics\", 149.49, 1)\n",
    "]\n",
    "\n",
    "sales_df = spark.createDataFrame(data=sales_data, schema=sales_schema)\n"
   ]
  },
  {
   "cell_type": "code",
   "execution_count": 0,
   "metadata": {
    "application/vnd.databricks.v1+cell": {
     "cellMetadata": {},
     "inputWidgets": {},
     "nuid": "8b4f3af4-c962-49d8-8183-8dea7bc13e89",
     "showTitle": false,
     "tableResultSettingsMap": {},
     "title": ""
    }
   },
   "outputs": [],
   "source": [
    "from pyspark.sql.function import year, month, col, expr\n",
    "\n",
    "sales_transformed = ()\n",
    "    sales_df.withColumn(\"Year\", year(col(\"OrderDate\"))) \\\n",
    "            .withColumn(\"Month\", month(col(\"OrderDate\"))) \\\n",
    "            .withColumn(\"SalesAmount\", expr(\"Price * Quantity\"))"
   ]
  },
  {
   "cell_type": "code",
   "execution_count": 0,
   "metadata": {
    "application/vnd.databricks.v1+cell": {
     "cellMetadata": {},
     "inputWidgets": {},
     "nuid": "f1f89003-7260-4e16-9e1f-dc6c12ef524d",
     "showTitle": false,
     "tableResultSettingsMap": {},
     "title": ""
    }
   },
   "outputs": [],
   "source": [
    "sales_summary = (\n",
    "    sales_transformed.groupBy(\"Region\", \"Category\")\n",
    "                   sum(\"SalesAmount\")\n",
    "                   .withColumnRenamed(\"sum(SalesAmount)\", \"TotalSales\")\n",
    "                   .orderBy(\"region\", \"Category\")\n",
    ")"
   ]
  },
  {
   "cell_type": "code",
   "execution_count": 0,
   "metadata": {
    "application/vnd.databricks.v1+cell": {
     "cellMetadata": {},
     "inputWidgets": {},
     "nuid": "c374b759-c0f5-45e3-bc02-f5568c2f3301",
     "showTitle": false,
     "tableResultSettingsMap": {},
     "title": ""
    }
   },
   "outputs": [],
   "source": [
    "sales_transformed.write.format(\"delta\").mode(\"overwrite\").saveAsTable(\"sales_transformed\")"
   ]
  }
 ],
 "metadata": {
  "application/vnd.databricks.v1+notebook": {
   "computePreferences": null,
   "dashboards": [],
   "environmentMetadata": {
    "base_environment": "",
    "environment_version": "2"
   },
   "inputWidgetPreferences": null,
   "language": "python",
   "notebookMetadata": {
    "pythonIndentUnit": 4
   },
   "notebookName": "Sales Data Notebook for Data Processing",
   "widgets": {}
  },
  "language_info": {
   "name": "python"
  }
 },
 "nbformat": 4,
 "nbformat_minor": 0
}
